{
  "nbformat": 4,
  "nbformat_minor": 0,
  "metadata": {
    "colab": {
      "provenance": [],
      "toc_visible": true,
      "authorship_tag": "ABX9TyM/qsCgUfrSNgVYVY/B51/n",
      "include_colab_link": true
    },
    "kernelspec": {
      "name": "python3",
      "display_name": "Python 3"
    },
    "language_info": {
      "name": "python"
    }
  },
  "cells": [
    {
      "cell_type": "markdown",
      "metadata": {
        "id": "view-in-github",
        "colab_type": "text"
      },
      "source": [
        "<a href=\"https://colab.research.google.com/github/theyug/Data_Science/blob/main/Copy_of_Yug_DS_.ipynb\" target=\"_parent\"><img src=\"https://colab.research.google.com/assets/colab-badge.svg\" alt=\"Open In Colab\"/></a>"
      ]
    },
    {
      "cell_type": "code",
      "execution_count": 1,
      "metadata": {
        "colab": {
          "base_uri": "https://localhost:8080/"
        },
        "id": "31Yvx50vECtp",
        "outputId": "8139ae5c-2fcf-4c08-9b3e-0adcbe54bc73"
      },
      "outputs": [
        {
          "output_type": "stream",
          "name": "stdout",
          "text": [
            "Requirement already satisfied: tweet-preprocessor in /usr/local/lib/python3.10/dist-packages (0.6.0)\n"
          ]
        }
      ],
      "source": [
        "!pip install tweet-preprocessor\n"
      ]
    },
    {
      "cell_type": "code",
      "source": [
        "import pandas as pd\n",
        "import numpy as np\n",
        "import matplotlib.pyplot as plt\n",
        "import seaborn as sn\n",
        "import re\n",
        "import preprocessor as p\n",
        "from sklearn.model_selection import train_test_split\n",
        "from sklearn.feature_extraction.text import CountVectorizer\n",
        "from sklearn import svm\n",
        "from sklearn.metrics import ConfusionMatrixDisplay,classification_report\n",
        "from sklearn.metrics import accuracy_score\n"
      ],
      "metadata": {
        "id": "i1gsw5Y1Edh0"
      },
      "execution_count": 2,
      "outputs": []
    },
    {
      "cell_type": "code",
      "source": [
        "df = pd.read_csv(r\"/content/COVIDSenti-A.csv\")\n"
      ],
      "metadata": {
        "id": "EJ9NyuXiEqS_"
      },
      "execution_count": 3,
      "outputs": []
    },
    {
      "cell_type": "code",
      "source": [
        "df"
      ],
      "metadata": {
        "colab": {
          "base_uri": "https://localhost:8080/",
          "height": 423
        },
        "id": "bic3DbZcFCX0",
        "outputId": "dd584321-2e29-44f8-ef63-db7960630396"
      },
      "execution_count": 4,
      "outputs": [
        {
          "output_type": "execute_result",
          "data": {
            "text/plain": [
              "                                                   tweet label\n",
              "0      Coronavirus | Human Coronavirus Types | CDC ht...   neu\n",
              "1      @shehryar_taseer That‚Äôs üíØ true , \\nCorona...   neu\n",
              "2      TLDR: Not SARS, possibly new coronavirus. Diff...   neg\n",
              "3      Disease outbreak news from the WHO: Middle Eas...   neu\n",
              "4      China - Media: WSJ says sources tell them myst...   neu\n",
              "...                                                  ...   ...\n",
              "29995  CDC: Re-test confirms Westerdam cruise ship pa...   neu\n",
              "29996  Two doctors die of coronavirus within 24 hours...   neu\n",
              "29997  BEIJING - The lockdown of Guo Jing's neighbour...   neu\n",
              "29998  #CoronavirusOutbreak in #Balochistan !!\\n#CPEC...   neu\n",
              "29999  The Australian dollar has hit a fresh decade l...   neu\n",
              "\n",
              "[30000 rows x 2 columns]"
            ],
            "text/html": [
              "\n",
              "  <div id=\"df-819f2ec6-484c-49b3-aaff-4386e950e5bd\" class=\"colab-df-container\">\n",
              "    <div>\n",
              "<style scoped>\n",
              "    .dataframe tbody tr th:only-of-type {\n",
              "        vertical-align: middle;\n",
              "    }\n",
              "\n",
              "    .dataframe tbody tr th {\n",
              "        vertical-align: top;\n",
              "    }\n",
              "\n",
              "    .dataframe thead th {\n",
              "        text-align: right;\n",
              "    }\n",
              "</style>\n",
              "<table border=\"1\" class=\"dataframe\">\n",
              "  <thead>\n",
              "    <tr style=\"text-align: right;\">\n",
              "      <th></th>\n",
              "      <th>tweet</th>\n",
              "      <th>label</th>\n",
              "    </tr>\n",
              "  </thead>\n",
              "  <tbody>\n",
              "    <tr>\n",
              "      <th>0</th>\n",
              "      <td>Coronavirus | Human Coronavirus Types | CDC ht...</td>\n",
              "      <td>neu</td>\n",
              "    </tr>\n",
              "    <tr>\n",
              "      <th>1</th>\n",
              "      <td>@shehryar_taseer That‚Äôs üíØ true , \\nCorona...</td>\n",
              "      <td>neu</td>\n",
              "    </tr>\n",
              "    <tr>\n",
              "      <th>2</th>\n",
              "      <td>TLDR: Not SARS, possibly new coronavirus. Diff...</td>\n",
              "      <td>neg</td>\n",
              "    </tr>\n",
              "    <tr>\n",
              "      <th>3</th>\n",
              "      <td>Disease outbreak news from the WHO: Middle Eas...</td>\n",
              "      <td>neu</td>\n",
              "    </tr>\n",
              "    <tr>\n",
              "      <th>4</th>\n",
              "      <td>China - Media: WSJ says sources tell them myst...</td>\n",
              "      <td>neu</td>\n",
              "    </tr>\n",
              "    <tr>\n",
              "      <th>...</th>\n",
              "      <td>...</td>\n",
              "      <td>...</td>\n",
              "    </tr>\n",
              "    <tr>\n",
              "      <th>29995</th>\n",
              "      <td>CDC: Re-test confirms Westerdam cruise ship pa...</td>\n",
              "      <td>neu</td>\n",
              "    </tr>\n",
              "    <tr>\n",
              "      <th>29996</th>\n",
              "      <td>Two doctors die of coronavirus within 24 hours...</td>\n",
              "      <td>neu</td>\n",
              "    </tr>\n",
              "    <tr>\n",
              "      <th>29997</th>\n",
              "      <td>BEIJING - The lockdown of Guo Jing's neighbour...</td>\n",
              "      <td>neu</td>\n",
              "    </tr>\n",
              "    <tr>\n",
              "      <th>29998</th>\n",
              "      <td>#CoronavirusOutbreak in #Balochistan !!\\n#CPEC...</td>\n",
              "      <td>neu</td>\n",
              "    </tr>\n",
              "    <tr>\n",
              "      <th>29999</th>\n",
              "      <td>The Australian dollar has hit a fresh decade l...</td>\n",
              "      <td>neu</td>\n",
              "    </tr>\n",
              "  </tbody>\n",
              "</table>\n",
              "<p>30000 rows × 2 columns</p>\n",
              "</div>\n",
              "    <div class=\"colab-df-buttons\">\n",
              "\n",
              "  <div class=\"colab-df-container\">\n",
              "    <button class=\"colab-df-convert\" onclick=\"convertToInteractive('df-819f2ec6-484c-49b3-aaff-4386e950e5bd')\"\n",
              "            title=\"Convert this dataframe to an interactive table.\"\n",
              "            style=\"display:none;\">\n",
              "\n",
              "  <svg xmlns=\"http://www.w3.org/2000/svg\" height=\"24px\" viewBox=\"0 -960 960 960\">\n",
              "    <path d=\"M120-120v-720h720v720H120Zm60-500h600v-160H180v160Zm220 220h160v-160H400v160Zm0 220h160v-160H400v160ZM180-400h160v-160H180v160Zm440 0h160v-160H620v160ZM180-180h160v-160H180v160Zm440 0h160v-160H620v160Z\"/>\n",
              "  </svg>\n",
              "    </button>\n",
              "\n",
              "  <style>\n",
              "    .colab-df-container {\n",
              "      display:flex;\n",
              "      gap: 12px;\n",
              "    }\n",
              "\n",
              "    .colab-df-convert {\n",
              "      background-color: #E8F0FE;\n",
              "      border: none;\n",
              "      border-radius: 50%;\n",
              "      cursor: pointer;\n",
              "      display: none;\n",
              "      fill: #1967D2;\n",
              "      height: 32px;\n",
              "      padding: 0 0 0 0;\n",
              "      width: 32px;\n",
              "    }\n",
              "\n",
              "    .colab-df-convert:hover {\n",
              "      background-color: #E2EBFA;\n",
              "      box-shadow: 0px 1px 2px rgba(60, 64, 67, 0.3), 0px 1px 3px 1px rgba(60, 64, 67, 0.15);\n",
              "      fill: #174EA6;\n",
              "    }\n",
              "\n",
              "    .colab-df-buttons div {\n",
              "      margin-bottom: 4px;\n",
              "    }\n",
              "\n",
              "    [theme=dark] .colab-df-convert {\n",
              "      background-color: #3B4455;\n",
              "      fill: #D2E3FC;\n",
              "    }\n",
              "\n",
              "    [theme=dark] .colab-df-convert:hover {\n",
              "      background-color: #434B5C;\n",
              "      box-shadow: 0px 1px 3px 1px rgba(0, 0, 0, 0.15);\n",
              "      filter: drop-shadow(0px 1px 2px rgba(0, 0, 0, 0.3));\n",
              "      fill: #FFFFFF;\n",
              "    }\n",
              "  </style>\n",
              "\n",
              "    <script>\n",
              "      const buttonEl =\n",
              "        document.querySelector('#df-819f2ec6-484c-49b3-aaff-4386e950e5bd button.colab-df-convert');\n",
              "      buttonEl.style.display =\n",
              "        google.colab.kernel.accessAllowed ? 'block' : 'none';\n",
              "\n",
              "      async function convertToInteractive(key) {\n",
              "        const element = document.querySelector('#df-819f2ec6-484c-49b3-aaff-4386e950e5bd');\n",
              "        const dataTable =\n",
              "          await google.colab.kernel.invokeFunction('convertToInteractive',\n",
              "                                                    [key], {});\n",
              "        if (!dataTable) return;\n",
              "\n",
              "        const docLinkHtml = 'Like what you see? Visit the ' +\n",
              "          '<a target=\"_blank\" href=https://colab.research.google.com/notebooks/data_table.ipynb>data table notebook</a>'\n",
              "          + ' to learn more about interactive tables.';\n",
              "        element.innerHTML = '';\n",
              "        dataTable['output_type'] = 'display_data';\n",
              "        await google.colab.output.renderOutput(dataTable, element);\n",
              "        const docLink = document.createElement('div');\n",
              "        docLink.innerHTML = docLinkHtml;\n",
              "        element.appendChild(docLink);\n",
              "      }\n",
              "    </script>\n",
              "  </div>\n",
              "\n",
              "\n",
              "<div id=\"df-053429f8-13b6-44fc-babb-9a7198a889ca\">\n",
              "  <button class=\"colab-df-quickchart\" onclick=\"quickchart('df-053429f8-13b6-44fc-babb-9a7198a889ca')\"\n",
              "            title=\"Suggest charts\"\n",
              "            style=\"display:none;\">\n",
              "\n",
              "<svg xmlns=\"http://www.w3.org/2000/svg\" height=\"24px\"viewBox=\"0 0 24 24\"\n",
              "     width=\"24px\">\n",
              "    <g>\n",
              "        <path d=\"M19 3H5c-1.1 0-2 .9-2 2v14c0 1.1.9 2 2 2h14c1.1 0 2-.9 2-2V5c0-1.1-.9-2-2-2zM9 17H7v-7h2v7zm4 0h-2V7h2v10zm4 0h-2v-4h2v4z\"/>\n",
              "    </g>\n",
              "</svg>\n",
              "  </button>\n",
              "\n",
              "<style>\n",
              "  .colab-df-quickchart {\n",
              "      --bg-color: #E8F0FE;\n",
              "      --fill-color: #1967D2;\n",
              "      --hover-bg-color: #E2EBFA;\n",
              "      --hover-fill-color: #174EA6;\n",
              "      --disabled-fill-color: #AAA;\n",
              "      --disabled-bg-color: #DDD;\n",
              "  }\n",
              "\n",
              "  [theme=dark] .colab-df-quickchart {\n",
              "      --bg-color: #3B4455;\n",
              "      --fill-color: #D2E3FC;\n",
              "      --hover-bg-color: #434B5C;\n",
              "      --hover-fill-color: #FFFFFF;\n",
              "      --disabled-bg-color: #3B4455;\n",
              "      --disabled-fill-color: #666;\n",
              "  }\n",
              "\n",
              "  .colab-df-quickchart {\n",
              "    background-color: var(--bg-color);\n",
              "    border: none;\n",
              "    border-radius: 50%;\n",
              "    cursor: pointer;\n",
              "    display: none;\n",
              "    fill: var(--fill-color);\n",
              "    height: 32px;\n",
              "    padding: 0;\n",
              "    width: 32px;\n",
              "  }\n",
              "\n",
              "  .colab-df-quickchart:hover {\n",
              "    background-color: var(--hover-bg-color);\n",
              "    box-shadow: 0 1px 2px rgba(60, 64, 67, 0.3), 0 1px 3px 1px rgba(60, 64, 67, 0.15);\n",
              "    fill: var(--button-hover-fill-color);\n",
              "  }\n",
              "\n",
              "  .colab-df-quickchart-complete:disabled,\n",
              "  .colab-df-quickchart-complete:disabled:hover {\n",
              "    background-color: var(--disabled-bg-color);\n",
              "    fill: var(--disabled-fill-color);\n",
              "    box-shadow: none;\n",
              "  }\n",
              "\n",
              "  .colab-df-spinner {\n",
              "    border: 2px solid var(--fill-color);\n",
              "    border-color: transparent;\n",
              "    border-bottom-color: var(--fill-color);\n",
              "    animation:\n",
              "      spin 1s steps(1) infinite;\n",
              "  }\n",
              "\n",
              "  @keyframes spin {\n",
              "    0% {\n",
              "      border-color: transparent;\n",
              "      border-bottom-color: var(--fill-color);\n",
              "      border-left-color: var(--fill-color);\n",
              "    }\n",
              "    20% {\n",
              "      border-color: transparent;\n",
              "      border-left-color: var(--fill-color);\n",
              "      border-top-color: var(--fill-color);\n",
              "    }\n",
              "    30% {\n",
              "      border-color: transparent;\n",
              "      border-left-color: var(--fill-color);\n",
              "      border-top-color: var(--fill-color);\n",
              "      border-right-color: var(--fill-color);\n",
              "    }\n",
              "    40% {\n",
              "      border-color: transparent;\n",
              "      border-right-color: var(--fill-color);\n",
              "      border-top-color: var(--fill-color);\n",
              "    }\n",
              "    60% {\n",
              "      border-color: transparent;\n",
              "      border-right-color: var(--fill-color);\n",
              "    }\n",
              "    80% {\n",
              "      border-color: transparent;\n",
              "      border-right-color: var(--fill-color);\n",
              "      border-bottom-color: var(--fill-color);\n",
              "    }\n",
              "    90% {\n",
              "      border-color: transparent;\n",
              "      border-bottom-color: var(--fill-color);\n",
              "    }\n",
              "  }\n",
              "</style>\n",
              "\n",
              "  <script>\n",
              "    async function quickchart(key) {\n",
              "      const quickchartButtonEl =\n",
              "        document.querySelector('#' + key + ' button');\n",
              "      quickchartButtonEl.disabled = true;  // To prevent multiple clicks.\n",
              "      quickchartButtonEl.classList.add('colab-df-spinner');\n",
              "      try {\n",
              "        const charts = await google.colab.kernel.invokeFunction(\n",
              "            'suggestCharts', [key], {});\n",
              "      } catch (error) {\n",
              "        console.error('Error during call to suggestCharts:', error);\n",
              "      }\n",
              "      quickchartButtonEl.classList.remove('colab-df-spinner');\n",
              "      quickchartButtonEl.classList.add('colab-df-quickchart-complete');\n",
              "    }\n",
              "    (() => {\n",
              "      let quickchartButtonEl =\n",
              "        document.querySelector('#df-053429f8-13b6-44fc-babb-9a7198a889ca button');\n",
              "      quickchartButtonEl.style.display =\n",
              "        google.colab.kernel.accessAllowed ? 'block' : 'none';\n",
              "    })();\n",
              "  </script>\n",
              "</div>\n",
              "\n",
              "  <div id=\"id_fa135873-75f4-4738-b89e-01bc88849ba0\">\n",
              "    <style>\n",
              "      .colab-df-generate {\n",
              "        background-color: #E8F0FE;\n",
              "        border: none;\n",
              "        border-radius: 50%;\n",
              "        cursor: pointer;\n",
              "        display: none;\n",
              "        fill: #1967D2;\n",
              "        height: 32px;\n",
              "        padding: 0 0 0 0;\n",
              "        width: 32px;\n",
              "      }\n",
              "\n",
              "      .colab-df-generate:hover {\n",
              "        background-color: #E2EBFA;\n",
              "        box-shadow: 0px 1px 2px rgba(60, 64, 67, 0.3), 0px 1px 3px 1px rgba(60, 64, 67, 0.15);\n",
              "        fill: #174EA6;\n",
              "      }\n",
              "\n",
              "      [theme=dark] .colab-df-generate {\n",
              "        background-color: #3B4455;\n",
              "        fill: #D2E3FC;\n",
              "      }\n",
              "\n",
              "      [theme=dark] .colab-df-generate:hover {\n",
              "        background-color: #434B5C;\n",
              "        box-shadow: 0px 1px 3px 1px rgba(0, 0, 0, 0.15);\n",
              "        filter: drop-shadow(0px 1px 2px rgba(0, 0, 0, 0.3));\n",
              "        fill: #FFFFFF;\n",
              "      }\n",
              "    </style>\n",
              "    <button class=\"colab-df-generate\" onclick=\"generateWithVariable('df')\"\n",
              "            title=\"Generate code using this dataframe.\"\n",
              "            style=\"display:none;\">\n",
              "\n",
              "  <svg xmlns=\"http://www.w3.org/2000/svg\" height=\"24px\"viewBox=\"0 0 24 24\"\n",
              "       width=\"24px\">\n",
              "    <path d=\"M7,19H8.4L18.45,9,17,7.55,7,17.6ZM5,21V16.75L18.45,3.32a2,2,0,0,1,2.83,0l1.4,1.43a1.91,1.91,0,0,1,.58,1.4,1.91,1.91,0,0,1-.58,1.4L9.25,21ZM18.45,9,17,7.55Zm-12,3A5.31,5.31,0,0,0,4.9,8.1,5.31,5.31,0,0,0,1,6.5,5.31,5.31,0,0,0,4.9,4.9,5.31,5.31,0,0,0,6.5,1,5.31,5.31,0,0,0,8.1,4.9,5.31,5.31,0,0,0,12,6.5,5.46,5.46,0,0,0,6.5,12Z\"/>\n",
              "  </svg>\n",
              "    </button>\n",
              "    <script>\n",
              "      (() => {\n",
              "      const buttonEl =\n",
              "        document.querySelector('#id_fa135873-75f4-4738-b89e-01bc88849ba0 button.colab-df-generate');\n",
              "      buttonEl.style.display =\n",
              "        google.colab.kernel.accessAllowed ? 'block' : 'none';\n",
              "\n",
              "      buttonEl.onclick = () => {\n",
              "        google.colab.notebook.generateWithVariable('df');\n",
              "      }\n",
              "      })();\n",
              "    </script>\n",
              "  </div>\n",
              "\n",
              "    </div>\n",
              "  </div>\n"
            ],
            "application/vnd.google.colaboratory.intrinsic+json": {
              "type": "dataframe",
              "variable_name": "df",
              "summary": "{\n  \"name\": \"df\",\n  \"rows\": 30000,\n  \"fields\": [\n    {\n      \"column\": \"tweet\",\n      \"properties\": {\n        \"dtype\": \"string\",\n        \"num_unique_values\": 29987,\n        \"samples\": [\n          \"NAB confirms show will take place in April https://t.co/G3cQRLnqTg (apparently they know coronavirus wont get worse !)\",\n          \"\\u201e\\u00c4\\u00eaHow come...\\u201e\\u00c4\\u00eb\\nA Disturbing Number of People Think Coronavirus Is Related to Corona Beer https://t.co/25SWFXlbt6 @vice\\u201e\\u00c5\\u00ef\\u201e\\u00c7\\u00ec\\u201e\\u00c5\\u00e3\\u201e\\u00c7\\u00e2\",\n          \"Wuhan coronavirus: Death toll in China rises to 304 with 45 new fatalities https://t.co/VynXpSdjPl\"\n        ],\n        \"semantic_type\": \"\",\n        \"description\": \"\"\n      }\n    },\n    {\n      \"column\": \"label\",\n      \"properties\": {\n        \"dtype\": \"category\",\n        \"num_unique_values\": 3,\n        \"samples\": [\n          \"neu\",\n          \"neg\",\n          \"pos\"\n        ],\n        \"semantic_type\": \"\",\n        \"description\": \"\"\n      }\n    }\n  ]\n}"
            }
          },
          "metadata": {},
          "execution_count": 4
        }
      ]
    },
    {
      "cell_type": "code",
      "source": [],
      "metadata": {
        "id": "zhIXNdyHJocr"
      },
      "execution_count": null,
      "outputs": []
    },
    {
      "cell_type": "code",
      "source": [],
      "metadata": {
        "id": "i_1_PDqGJPgK"
      },
      "execution_count": null,
      "outputs": []
    },
    {
      "cell_type": "code",
      "source": [
        "df.describe()\n",
        "\n"
      ],
      "metadata": {
        "id": "Yyt24RMrFHkA"
      },
      "execution_count": null,
      "outputs": []
    },
    {
      "cell_type": "markdown",
      "source": [
        "The dataset contains a 'tweet' Column and 'label' column. The label column is a categorical column with values neutral- 'neu', positive-'pos' and negative-'neg'."
      ],
      "metadata": {
        "id": "7Stsj0PrNLwD"
      }
    },
    {
      "cell_type": "markdown",
      "source": [],
      "metadata": {
        "id": "kOawcMneNLiS"
      }
    },
    {
      "cell_type": "code",
      "source": [
        "df['label'].value_counts()\n"
      ],
      "metadata": {
        "id": "X5mq-fvgFLIJ"
      },
      "execution_count": null,
      "outputs": []
    },
    {
      "cell_type": "code",
      "source": [
        "sn.countplot(df['label'])\n"
      ],
      "metadata": {
        "id": "O2qhVi81FLBO"
      },
      "execution_count": null,
      "outputs": []
    },
    {
      "cell_type": "code",
      "source": [
        "REPLACE_NO_SPACE = re.compile(\"(\\.)|(\\;)|(\\:)|(\\!)|(\\')|(\\?)|(\\,)|(\\\")|(\\|)|(\\()|(\\))|(\\[)|(\\])|(\\%)|(\\$)|(\\>)|(\\<)|(\\{)|(\\})\")\n",
        "REPLACE_WITH_SPACE = re.compile(\"(<br\\s/><br\\s/?)|(-)|(/)|(:).\")"
      ],
      "metadata": {
        "id": "Y33MBS0-FK91"
      },
      "execution_count": null,
      "outputs": []
    },
    {
      "cell_type": "code",
      "source": [
        "# costum function to clean the dataset (combining tweet_preprocessor and reguar expression)\n",
        "def clean_tweets(df):\n",
        "    arr = []\n",
        "    for line in df:\n",
        "        # send to tweet_processor\n",
        "        tmpL = p.clean(line)\n",
        "        # remove puctuation\n",
        "        tmpL = REPLACE_NO_SPACE.sub(\"\", tmpL.lower()) # convert all tweets to lower cases\n",
        "        tmpL = REPLACE_WITH_SPACE.sub(\" \", tmpL)\n",
        "        arr.append(tmpL)\n",
        "    return arr"
      ],
      "metadata": {
        "id": "fgQ0LHiHFulL"
      },
      "execution_count": null,
      "outputs": []
    },
    {
      "cell_type": "code",
      "source": [
        "!pip install scikit-learn"
      ],
      "metadata": {
        "id": "DeGn_Y5GHkTL"
      },
      "execution_count": null,
      "outputs": []
    },
    {
      "cell_type": "code",
      "source": [
        "#calling the clean functions to clean the tweet column\n",
        "cleaned_tweet = clean_tweets(df[\"tweet\"])\n",
        "cleaned_tweet = pd.DataFrame(cleaned_tweet)"
      ],
      "metadata": {
        "id": "xdmjQJPxFudX"
      },
      "execution_count": null,
      "outputs": []
    },
    {
      "cell_type": "code",
      "source": [
        "cleaned_tweet"
      ],
      "metadata": {
        "id": "IrWJQzx7F09N"
      },
      "execution_count": null,
      "outputs": []
    },
    {
      "cell_type": "code",
      "source": [
        "# append cleaned tweets to the training data\n",
        "df[\"cleaned_tweet\"] = cleaned_tweet\n",
        "\n",
        "# compare the cleaned and uncleaned tweets\n",
        "df.head(10)"
      ],
      "metadata": {
        "id": "4nX1OrktF5N4"
      },
      "execution_count": null,
      "outputs": []
    },
    {
      "cell_type": "code",
      "source": [
        "#Performing the test-train split and the ratio taken is 70:30\n",
        "y=df.label.values\n",
        "x=df.cleaned_tweet.values\n",
        "x_train,x_test,y_train,y_test=train_test_split(x,y,stratify=y,random_state=7,test_size=0.3,shuffle=True)\n"
      ],
      "metadata": {
        "id": "cxHHfgZLF5CP"
      },
      "execution_count": null,
      "outputs": []
    },
    {
      "cell_type": "code",
      "source": [
        "# vectorize tweets for model building\n",
        "vectorizer = CountVectorizer(binary=True, stop_words='english')\n",
        "\n",
        "# learn a vocabulary dictionary of all tokens in the raw documents\n",
        "vectorizer.fit(list(x_train) + list(x_test))\n",
        "\n",
        "# transform documents to document-term matrix\n",
        "x_train_vec = vectorizer.transform(x_train)\n",
        "x_test_vec = vectorizer.transform(x_test)\n",
        "\n",
        "\n"
      ],
      "metadata": {
        "id": "yxS8x_ETF4-7"
      },
      "execution_count": null,
      "outputs": []
    },
    {
      "cell_type": "code",
      "source": [
        "# classify using support vector classifier\n",
        "from sklearn import svm\n",
        "svm = svm.SVC(kernel = 'linear', probability=True)\n",
        "\n",
        "# fit the SVC model based on the given training data\n",
        "prob = svm.fit(x_train_vec, y_train).predict_proba(x_test_vec)\n",
        "\n",
        "# perform classification and prediction on samples in x_test\n",
        "y_pred_svm = svm.predict(x_test_vec)"
      ],
      "metadata": {
        "id": "5l7brtOwJs0p"
      },
      "execution_count": null,
      "outputs": []
    },
    {
      "cell_type": "code",
      "source": [
        "#confusion matrix\n",
        "ConfusionMatrixDisplay.from_predictions(y_test, y_pred_svm)\n"
      ],
      "metadata": {
        "id": "n1STw1XeIFbI"
      },
      "execution_count": null,
      "outputs": []
    },
    {
      "cell_type": "code",
      "source": [
        "#Printing the classification report to see all the values of the metrics\n",
        "print(\"CLASSIFICATION REPORT:\")\n",
        "print(classification_report(y_test, y_pred_svm))"
      ],
      "metadata": {
        "id": "HhriWldpJids"
      },
      "execution_count": null,
      "outputs": []
    },
    {
      "cell_type": "code",
      "source": [
        "#Printing the classification report to see all the values of the metrics\n",
        "print(\"CLASSIFICATION REPORT:\")\n",
        "print(classification_report(y_test, y_pred_svm))"
      ],
      "metadata": {
        "id": "p8Yzki5YM82l"
      },
      "execution_count": null,
      "outputs": []
    },
    {
      "cell_type": "markdown",
      "source": [
        "WE TRAINED THE DATASET THROUGH SVM MODEL"
      ],
      "metadata": {
        "id": "Kz9jkv74NXrI"
      }
    },
    {
      "cell_type": "code",
      "source": [
        "df.isnull().head()"
      ],
      "metadata": {
        "id": "4PFS4a9PNV2P"
      },
      "execution_count": null,
      "outputs": []
    },
    {
      "cell_type": "code",
      "source": [
        "sn.heatmap(df.isnull(),yticklabels=False,cbar=False,cmap='viridis')"
      ],
      "metadata": {
        "id": "x8rhNAh5Ndxy"
      },
      "execution_count": null,
      "outputs": []
    },
    {
      "cell_type": "code",
      "source": [
        "sn.set_style('whitegrid')"
      ],
      "metadata": {
        "id": "4oZYrZUYDHiv"
      },
      "execution_count": null,
      "outputs": []
    },
    {
      "cell_type": "code",
      "source": [
        "sn.countplot(x='label',data=df)"
      ],
      "metadata": {
        "id": "CrUhcJaCDP-h"
      },
      "execution_count": null,
      "outputs": []
    },
    {
      "cell_type": "code",
      "source": [
        "data = {\n",
        "    'x_column': [1, 2, 3, 4, 5],\n",
        "    'y_column': [2, 3, 4, 5, 6]\n",
        "}\n",
        "df = pd.read_csv('/content/COVIDSenti-A.csv')\n",
        "\n",
        "# Set seaborn style\n",
        "sn.set(style=\"whitegrid\")\n",
        "sn.lmplot(x='label', y='tweet', data=df, ci=None, scatter_kws={\"s\": 80}, palette=\"muted\", height=6)\n",
        "\n",
        "# Customize labels and title\n",
        "plt.xlabel('X Axis Label', fontsize=14)\n",
        "plt.ylabel('Y Axis Label', fontsize=14)\n",
        "plt.title('Regression Analysis', fontsize=16)\n",
        "\n",
        "# Show plot\n",
        "plt.show()\n"
      ],
      "metadata": {
        "id": "xOPlP86EFFvG"
      },
      "execution_count": null,
      "outputs": []
    },
    {
      "cell_type": "code",
      "source": [],
      "metadata": {
        "id": "SJi_n0qTOElf"
      },
      "execution_count": null,
      "outputs": []
    },
    {
      "cell_type": "code",
      "source": [
        "unique_counts = df.nunique()\n",
        "\n",
        "# Find the frequency of each value in the 'label' column\n",
        "label_freq = df['label'].value_counts()\n",
        "\n",
        "# Plotting\n",
        "plt.figure(figsize=(10, 6))\n",
        "\n",
        "# Plot count of unique values in each column\n",
        "plt.subplot(1, 2, 1)\n",
        "unique_counts.plot(kind='bar', color='skyblue')\n",
        "plt.title('Count of Unique Values')\n",
        "plt.xlabel('Columns')\n",
        "plt.ylabel('Count')\n",
        "\n",
        "# Plot frequency of each value in the 'label' column\n",
        "plt.subplot(1, 2, 2)\n",
        "label_freq.plot(kind='bar', color='salmon')\n",
        "plt.title('Frequency of Label Values')\n",
        "plt.xlabel('Label Values')\n",
        "plt.ylabel('Frequency')\n",
        "\n",
        "plt.tight_layout()\n",
        "plt.show()"
      ],
      "metadata": {
        "id": "gfDAn8ohOEPE"
      },
      "execution_count": null,
      "outputs": []
    },
    {
      "cell_type": "code",
      "source": [
        "label_freq = df['label'].value_counts()\n",
        "\n",
        "# Plotting\n",
        "plt.figure(figsize=(8, 6))\n",
        "\n",
        "# Plot frequency of 'neg', 'neu', and 'pos' values\n",
        "label_freq.plot(kind='bar', color=['red', 'blue', 'green'])\n",
        "plt.title('Frequency of Label Values')\n",
        "plt.xlabel('Label Values')\n",
        "plt.ylabel('Frequency')\n",
        "\n",
        "plt.show()"
      ],
      "metadata": {
        "id": "dOW-zwTPOzXb"
      },
      "execution_count": null,
      "outputs": []
    },
    {
      "cell_type": "code",
      "source": [
        "neg_df = df[df['label'] == 'neg']\n",
        "\n",
        "# Count unique values in each column for the filtered DataFrame\n",
        "unique_counts_neg = neg_df.nunique()\n",
        "\n",
        "# Plotting\n",
        "plt.figure(figsize=(10, 6))\n",
        "\n",
        "# Plot count of unique values in each column for 'neg' tweets\n",
        "unique_counts_neg.plot(kind='bar', color='skyblue')\n",
        "plt.title('Count of Unique Values in Columns for negative Tweets')\n",
        "plt.xlabel('Columns')\n",
        "plt.ylabel('Count')\n",
        "\n",
        "plt.xticks(rotation=45)\n",
        "plt.tight_layout()\n",
        "plt.show()"
      ],
      "metadata": {
        "id": "w-JbQlb-O_EY"
      },
      "execution_count": null,
      "outputs": []
    },
    {
      "cell_type": "markdown",
      "source": [
        "We have performed Logistic regression/regression on the dataset\n"
      ],
      "metadata": {
        "id": "SWpOr3NwlMzS"
      }
    },
    {
      "cell_type": "code",
      "source": [
        "df.shape"
      ],
      "metadata": {
        "id": "toGmEdL3lVWq"
      },
      "execution_count": null,
      "outputs": []
    },
    {
      "cell_type": "code",
      "source": [
        "df.isnull().sum()"
      ],
      "metadata": {
        "id": "8lVSXbebliDs"
      },
      "execution_count": null,
      "outputs": []
    },
    {
      "cell_type": "code",
      "source": [
        "df.dtypes    ## Checking the datatype\n"
      ],
      "metadata": {
        "id": "NBx1sD63lh62"
      },
      "execution_count": null,
      "outputs": []
    },
    {
      "cell_type": "code",
      "source": [
        "# Descision Tree Implementation on Iris Dataset\n",
        "df = pd.read_csv('/content/Iris.csv')\n",
        "df.head()"
      ],
      "metadata": {
        "id": "j4OCy7hjlq2Z"
      },
      "execution_count": null,
      "outputs": []
    },
    {
      "cell_type": "code",
      "source": [
        "df.shape"
      ],
      "metadata": {
        "id": "JsKmo4WFlqg1"
      },
      "execution_count": null,
      "outputs": []
    },
    {
      "cell_type": "code",
      "source": [
        "df.size"
      ],
      "metadata": {
        "id": "2zuzz24unvP7"
      },
      "execution_count": null,
      "outputs": []
    },
    {
      "cell_type": "code",
      "source": [
        "df.isnull()    ## Checking the null values in bool form"
      ],
      "metadata": {
        "id": "UoSMN7R7nvK6"
      },
      "execution_count": null,
      "outputs": []
    },
    {
      "cell_type": "code",
      "source": [
        "df.isnull().sum()"
      ],
      "metadata": {
        "id": "gbCetT2wnvFR"
      },
      "execution_count": null,
      "outputs": []
    },
    {
      "cell_type": "code",
      "source": [
        "df.dtypes    ## Checking the datatype\n"
      ],
      "metadata": {
        "id": "Ud842q6rnu91"
      },
      "execution_count": null,
      "outputs": []
    },
    {
      "cell_type": "code",
      "source": [
        "Species_dummies = pd.get_dummies(df.Species)"
      ],
      "metadata": {
        "id": "ohgVwzk3nuxP"
      },
      "execution_count": null,
      "outputs": []
    },
    {
      "cell_type": "code",
      "source": [
        "Species_dummies"
      ],
      "metadata": {
        "id": "y2cna1GcoOCN"
      },
      "execution_count": null,
      "outputs": []
    },
    {
      "cell_type": "code",
      "source": [
        "\n",
        "df = pd.concat([df,Species_dummies], axis = 'columns')   ## Concatinating the new dummy row to df"
      ],
      "metadata": {
        "id": "Ja9mPHhQoNxC"
      },
      "execution_count": null,
      "outputs": []
    },
    {
      "cell_type": "code",
      "source": [
        "df"
      ],
      "metadata": {
        "id": "IwzMoglNoWki"
      },
      "execution_count": null,
      "outputs": []
    },
    {
      "cell_type": "code",
      "source": [
        "df.drop(['Species'],axis = 'columns',inplace = True)   ## Removing the old species col from dataset"
      ],
      "metadata": {
        "id": "Ndo0uWleoWTi"
      },
      "execution_count": null,
      "outputs": []
    },
    {
      "cell_type": "code",
      "source": [
        "plt.figure(figsize = (10,8))\n",
        "df['SepalLengthCm'].hist()"
      ],
      "metadata": {
        "id": "ic9McMvyoVgl"
      },
      "execution_count": null,
      "outputs": []
    },
    {
      "cell_type": "code",
      "source": [
        "plt.figure(figsize = (10,8))\n",
        "df['SepalWidthCm'].hist()\n"
      ],
      "metadata": {
        "id": "a2gb4GZRo8vl"
      },
      "execution_count": null,
      "outputs": []
    },
    {
      "cell_type": "code",
      "source": [
        "plt.figure(figsize = (10,8))\n",
        "df['PetalLengthCm'].hist()"
      ],
      "metadata": {
        "id": "bdbTyNl4pFK4"
      },
      "execution_count": null,
      "outputs": []
    },
    {
      "cell_type": "code",
      "source": [
        "plt.figure(figsize = (10,8))\n",
        "df['PetalWidthCm'].hist()"
      ],
      "metadata": {
        "id": "ezFAW-mZpFCu"
      },
      "execution_count": null,
      "outputs": []
    },
    {
      "cell_type": "code",
      "source": [
        "df.corr()"
      ],
      "metadata": {
        "id": "cuR0rz7yo8o8"
      },
      "execution_count": null,
      "outputs": []
    },
    {
      "cell_type": "code",
      "source": [
        "corr = df.corr()\n",
        "fig,ax = plt.subplots(figsize = (10,8))\n",
        "sn.heatmap(corr , annot = True , ax = ax , cmap = 'coolwarm')    ## Checking coorelation with help of heatmap"
      ],
      "metadata": {
        "id": "os0p4GNDplGe"
      },
      "execution_count": null,
      "outputs": []
    },
    {
      "cell_type": "code",
      "source": [
        "df"
      ],
      "metadata": {
        "id": "DilYCeqxpuWT"
      },
      "execution_count": null,
      "outputs": []
    },
    {
      "cell_type": "code",
      "source": [
        "column_to_remove = 'Id'\n",
        "\n",
        "# Remove the specified column\n",
        "df = df.drop(columns=[column_to_remove])\n",
        "print(df)"
      ],
      "metadata": {
        "id": "aWdoho0gq5ET"
      },
      "execution_count": null,
      "outputs": []
    },
    {
      "cell_type": "code",
      "source": [
        "df"
      ],
      "metadata": {
        "id": "B-J0MpOppt_z"
      },
      "execution_count": null,
      "outputs": []
    },
    {
      "cell_type": "code",
      "source": [
        "X = df.iloc[:,0:4].values"
      ],
      "metadata": {
        "id": "BNF-PPisrRur"
      },
      "execution_count": null,
      "outputs": []
    },
    {
      "cell_type": "code",
      "source": [
        "X"
      ],
      "metadata": {
        "id": "dR_-Nya1rS93"
      },
      "execution_count": null,
      "outputs": []
    },
    {
      "cell_type": "code",
      "source": [
        "Y = df.iloc[:,4:7].values      ## Extracting our Dependent/Traget/Predictable variable"
      ],
      "metadata": {
        "id": "x85pkIE8rZOn"
      },
      "execution_count": null,
      "outputs": []
    },
    {
      "cell_type": "code",
      "source": [
        "Y"
      ],
      "metadata": {
        "id": "MgMSrAIcp6ff"
      },
      "execution_count": null,
      "outputs": []
    },
    {
      "cell_type": "code",
      "source": [
        "from sklearn.model_selection import train_test_split   ## Importing train test split"
      ],
      "metadata": {
        "id": "tgYu17gFp6Vx"
      },
      "execution_count": null,
      "outputs": []
    },
    {
      "cell_type": "code",
      "source": [
        "X_train,X_test,Y_train,Y_test = train_test_split(X,Y,test_size = 0.20,random_state =  0)  ## Assigning the all 4 var for train test split"
      ],
      "metadata": {
        "id": "qJX0affip6Nu"
      },
      "execution_count": null,
      "outputs": []
    },
    {
      "cell_type": "code",
      "source": [
        " ## Importing Descision tree\n",
        "from sklearn.tree import DecisionTreeClassifier\n",
        "dtmodel = DecisionTreeClassifier(criterion = 'entropy',random_state = 0)    ## Making an instance and object nd providig thensplitting criterian = entropy\n",
        "dtmodel.fit(X_train,Y_train)   ## Fitting the instance into the model"
      ],
      "metadata": {
        "id": "M1cMeHHyqJQJ"
      },
      "execution_count": null,
      "outputs": []
    },
    {
      "cell_type": "code",
      "source": [
        "y_pred = dtmodel.predict(X_test)    ## Now predicting the model"
      ],
      "metadata": {
        "id": "CRYfsijnrqyS"
      },
      "execution_count": null,
      "outputs": []
    },
    {
      "cell_type": "code",
      "source": [
        "df = df.astype(int)\n",
        "\n",
        "# Display the DataFrame\n",
        "print(df)"
      ],
      "metadata": {
        "id": "Q8p3olL2rqej"
      },
      "execution_count": null,
      "outputs": []
    },
    {
      "cell_type": "code",
      "source": [
        "dtmodel.predict([[4.6,3.1,1.5,0.2]])   ## Predicting the species with newer input\n"
      ],
      "metadata": {
        "id": "iwJV5LGysC2q"
      },
      "execution_count": null,
      "outputs": []
    },
    {
      "cell_type": "code",
      "source": [
        "dtmodel.score(X_test,Y_test)"
      ],
      "metadata": {
        "id": "xPPyOeQksO2m"
      },
      "execution_count": null,
      "outputs": []
    },
    {
      "cell_type": "code",
      "source": [
        "## Text representation\n",
        "\n",
        "from sklearn import tree\n",
        "text_representation = tree.export_text(dtmodel)\n",
        "print(text_representation)"
      ],
      "metadata": {
        "id": "fnaqCOEvsOsq"
      },
      "execution_count": null,
      "outputs": []
    },
    {
      "cell_type": "code",
      "source": [
        "## Plotting Tree plot_tree\n",
        "\n",
        "fig  = plt.figure(figsize = (15,8))\n",
        "tree.plot_tree(dtmodel,filled = True)"
      ],
      "metadata": {
        "id": "KFxRaUsmscX3"
      },
      "execution_count": null,
      "outputs": []
    },
    {
      "cell_type": "markdown",
      "source": [
        "**WE HAVE PERFORMED DESCISON TREE IMPLEMENTATION  ON IRIS DATASET**"
      ],
      "metadata": {
        "id": "1iVzM_ujtpZ0"
      }
    },
    {
      "cell_type": "code",
      "source": [
        "from sklearn.datasets import load_iris\n",
        "from sklearn.ensemble import RandomForestClassifier\n",
        "\n",
        "iris=load_iris()\n",
        "df=pd.DataFrame(iris.data , columns=iris.feature_names)\n",
        "df.head()"
      ],
      "metadata": {
        "id": "RwukbOQjyAXF"
      },
      "execution_count": null,
      "outputs": []
    },
    {
      "cell_type": "code",
      "source": [
        "df = pd.read_csv('/content/Iris.csv')\n",
        "df.head()"
      ],
      "metadata": {
        "id": "HCyGcPb0xW9n"
      },
      "execution_count": null,
      "outputs": []
    },
    {
      "cell_type": "code",
      "source": [
        "#RANDOMFOREST CLASSIFIER ON SIMPLE DATASETS.\n",
        "df['is_train']=np.random.uniform(0,1,len(df)) <=.75\n",
        "df.head()\n"
      ],
      "metadata": {
        "id": "H_wd9huHsy4k"
      },
      "execution_count": null,
      "outputs": []
    },
    {
      "cell_type": "code",
      "source": [
        "train,test =df[df['is_train']==True],df[df['is_train']==False]\n",
        "print('Number of observation in the training data:', len(train))\n",
        "print('Number of observation in the testing data:', len(test))"
      ],
      "metadata": {
        "id": "z36i-3U9sh5M"
      },
      "execution_count": null,
      "outputs": []
    },
    {
      "cell_type": "code",
      "source": [
        "features = df.columns[:4]\n",
        "features"
      ],
      "metadata": {
        "id": "iggpN_6wuAvx"
      },
      "execution_count": null,
      "outputs": []
    },
    {
      "cell_type": "code",
      "source": [
        "\n",
        "y=pd.factorize(train['Species'])[0]\n",
        "y"
      ],
      "metadata": {
        "id": "AZHxvkt_uw4U"
      },
      "execution_count": null,
      "outputs": []
    },
    {
      "cell_type": "code",
      "source": [
        "clf=RandomForestClassifier(n_jobs=2,random_state=0)\n",
        "clf.fit(train[features],y)"
      ],
      "metadata": {
        "id": "2oBiNTF6ybfA"
      },
      "execution_count": null,
      "outputs": []
    },
    {
      "cell_type": "code",
      "source": [
        " clf.predict(test[features])"
      ],
      "metadata": {
        "id": "AduZev9Fuw0-"
      },
      "execution_count": null,
      "outputs": []
    },
    {
      "cell_type": "code",
      "source": [
        "clf.predict_proba(test[features])"
      ],
      "metadata": {
        "id": "awXbZewkuwyb"
      },
      "execution_count": null,
      "outputs": []
    },
    {
      "cell_type": "code",
      "source": [
        "preds=iris.target_names[clf.predict(test[features])]"
      ],
      "metadata": {
        "id": "UBXpNa2GuwqG"
      },
      "execution_count": null,
      "outputs": []
    },
    {
      "cell_type": "code",
      "source": [
        "preds[0:10]\n"
      ],
      "metadata": {
        "id": "jggtXKrXzN7Q"
      },
      "execution_count": null,
      "outputs": []
    },
    {
      "cell_type": "code",
      "source": [
        "test['Species'].head()"
      ],
      "metadata": {
        "id": "ppQAW-l_zRZr"
      },
      "execution_count": null,
      "outputs": []
    },
    {
      "cell_type": "code",
      "source": [
        "\n",
        "pd.crosstab(test['Species'],preds,rownames=['Actual Species'],colnames=['Predicted Species'])\n"
      ],
      "metadata": {
        "id": "vAjaHPZqzWuV"
      },
      "execution_count": null,
      "outputs": []
    },
    {
      "cell_type": "code",
      "source": [
        "preds=iris.target_names[clf.predict([[5.0 , 3.6 , 1.4 , 2.0]])]\n",
        "preds"
      ],
      "metadata": {
        "id": "eDdw56yMzWYe"
      },
      "execution_count": null,
      "outputs": []
    },
    {
      "cell_type": "markdown",
      "source": [
        "**WE HAVE PERFORMED RANDOM FOREST CLASSIFCATION ON IRIS DATASET**\n",
        "\n",
        "> Add blockquote\n",
        "\n"
      ],
      "metadata": {
        "id": "gw-uk9uW0Cqu"
      }
    },
    {
      "cell_type": "markdown",
      "source": [],
      "metadata": {
        "id": "SxLqgAru0uzm"
      }
    },
    {
      "cell_type": "code",
      "source": [
        "# K-Means-Clustering-on-Iris-dataset\n",
        "import numpy as np\n",
        "import pandas as pd\n",
        "import matplotlib.pyplot as plt\n",
        "%matplotlib inline\n",
        "import seaborn as sns\n",
        "from sklearn.cluster import KMeans\n",
        "import sklearn.metrics as sm"
      ],
      "metadata": {
        "id": "we6Iy6C10CMU"
      },
      "execution_count": null,
      "outputs": []
    },
    {
      "cell_type": "code",
      "source": [
        "df = pd.read_csv('Iris.csv')"
      ],
      "metadata": {
        "id": "VjMWKtJj07KE"
      },
      "execution_count": null,
      "outputs": []
    },
    {
      "cell_type": "code",
      "source": [
        "df.head()"
      ],
      "metadata": {
        "id": "h-uIIDh00Ay5"
      },
      "execution_count": null,
      "outputs": []
    },
    {
      "cell_type": "code",
      "source": [
        "df.describe()"
      ],
      "metadata": {
        "id": "jhPm8kdZ0_Lm"
      },
      "execution_count": null,
      "outputs": []
    },
    {
      "cell_type": "code",
      "source": [
        "sns.pairplot(df.iloc[:, 1:], hue=\"Species\")"
      ],
      "metadata": {
        "id": "r-MVmnOT1KId"
      },
      "execution_count": null,
      "outputs": []
    },
    {
      "cell_type": "code",
      "source": [
        "data = df.iloc[:,1:5]\n"
      ],
      "metadata": {
        "id": "TpaHb7-_1PgO"
      },
      "execution_count": null,
      "outputs": []
    },
    {
      "cell_type": "code",
      "source": [
        "#optimal number\n",
        "# SSE is the sum of squared distance within the clusters(WCSS)\n",
        "\n",
        "SSE = []"
      ],
      "metadata": {
        "id": "dnUKm7ja1PZu"
      },
      "execution_count": null,
      "outputs": []
    },
    {
      "cell_type": "code",
      "source": [
        "from sklearn.cluster import KMeans\n",
        "\n",
        "SSE = []\n",
        "for cluster in range(1, 20):\n",
        "    kmeans = KMeans(n_clusters=cluster)\n",
        "    kmeans.fit(data)\n",
        "    SSE.append(kmeans.inertia_)\n"
      ],
      "metadata": {
        "id": "OQaJjmkS1POH"
      },
      "execution_count": null,
      "outputs": []
    },
    {
      "cell_type": "code",
      "source": [
        "frame = pd.DataFrame({'Cluster':range(1,20), 'SSE':SSE})\n"
      ],
      "metadata": {
        "id": "njK_E61p2pen"
      },
      "execution_count": null,
      "outputs": []
    },
    {
      "cell_type": "code",
      "source": [
        "frame.head(10)\n"
      ],
      "metadata": {
        "id": "6TtuAFAP2pXi"
      },
      "execution_count": null,
      "outputs": []
    },
    {
      "cell_type": "code",
      "source": [
        "plt.figure(figsize=(12,6))\n",
        "plt.plot(frame['Cluster'], frame['SSE'], marker='o')"
      ],
      "metadata": {
        "id": "AmscUdDi2vxD"
      },
      "execution_count": null,
      "outputs": []
    },
    {
      "cell_type": "markdown",
      "source": [
        "SCALING THE DATA"
      ],
      "metadata": {
        "id": "mRGueg6B2zdi"
      }
    },
    {
      "cell_type": "code",
      "source": [
        "from sklearn.preprocessing import StandardScaler\n",
        "\n",
        "scaler = StandardScaler()\n",
        "\n",
        "data_scaled = scaler.fit_transform(data)\n"
      ],
      "metadata": {
        "id": "OduVlLbD2vqo"
      },
      "execution_count": null,
      "outputs": []
    },
    {
      "cell_type": "code",
      "source": [
        "pd.DataFrame(data_scaled).describe()\n"
      ],
      "metadata": {
        "id": "9sohgY7e26y1"
      },
      "execution_count": null,
      "outputs": []
    },
    {
      "cell_type": "code",
      "source": [
        "from sklearn.cluster import KMeans\n",
        "\n",
        "# Instantiate KMeans with the desired number of clusters\n",
        "kmeans = KMeans(n_clusters=3)\n",
        "\n",
        "# Fit the model to your data\n",
        "kmeans.fit(data)\n",
        "\n",
        "# Predict the cluster labels for your data\n",
        "pred = kmeans.predict(data)"
      ],
      "metadata": {
        "id": "92s9HBkG3Ebi"
      },
      "execution_count": null,
      "outputs": []
    },
    {
      "cell_type": "code",
      "source": [
        "pred"
      ],
      "metadata": {
        "id": "hvD96hdj3ETJ"
      },
      "execution_count": null,
      "outputs": []
    },
    {
      "cell_type": "code",
      "source": [
        "pd.Series(pred).value_counts()\n"
      ],
      "metadata": {
        "id": "pIMsW-f93EJ0"
      },
      "execution_count": null,
      "outputs": []
    },
    {
      "cell_type": "code",
      "source": [
        "df['Prediction'] = pred"
      ],
      "metadata": {
        "id": "x7YMPkut3gxh"
      },
      "execution_count": null,
      "outputs": []
    },
    {
      "cell_type": "code",
      "source": [
        "df"
      ],
      "metadata": {
        "id": "7LkHZaQf3j-L"
      },
      "execution_count": null,
      "outputs": []
    },
    {
      "cell_type": "code",
      "source": [
        "df[df['Prediction']==0].head()"
      ],
      "metadata": {
        "id": "02uWPsjw3pRP"
      },
      "execution_count": null,
      "outputs": []
    },
    {
      "cell_type": "code",
      "source": [
        "df[df['Prediction']==1].head()"
      ],
      "metadata": {
        "id": "VHUy8dN-3sa0"
      },
      "execution_count": null,
      "outputs": []
    },
    {
      "cell_type": "code",
      "source": [
        "df[df['Prediction']==2].head()"
      ],
      "metadata": {
        "id": "QE89uyn-3sQf"
      },
      "execution_count": null,
      "outputs": []
    },
    {
      "cell_type": "code",
      "source": [
        "df[df['Prediction'] == 0]['Species'].value_counts()"
      ],
      "metadata": {
        "id": "PKfl79yf33HK"
      },
      "execution_count": null,
      "outputs": []
    },
    {
      "cell_type": "code",
      "source": [
        "df[df['Prediction'] == 2]['Species'].value_counts()\n"
      ],
      "metadata": {
        "id": "Fq4fn5F633D1"
      },
      "execution_count": null,
      "outputs": []
    },
    {
      "cell_type": "code",
      "source": [
        "plt.scatter(df.iloc[:,1], df.iloc[:,2])\n",
        "plt.title(\"Original dataset\")\n",
        "plt.xlabel(\"Sepal Length\")\n",
        "plt.ylabel(\"Sepal Width\")"
      ],
      "metadata": {
        "id": "AEQr6uoG33A_"
      },
      "execution_count": null,
      "outputs": []
    },
    {
      "cell_type": "code",
      "source": [
        "plt.scatter(df[df['Prediction'] == 0].iloc[:,1], df[df['Prediction'] == 0].iloc[:,2],\n",
        "           s=100, c = 'red', label = 'Iris-versicolor')\n",
        "plt.scatter(df[df['Prediction'] == 1].iloc[:,1], df[df['Prediction'] == 1].iloc[:,2],\n",
        "           s=100, c = 'green', label = 'Iris-setosa')\n",
        "plt.scatter(df[df['Prediction'] == 2].iloc[:,1], df[df['Prediction'] == 2].iloc[:,2],\n",
        "           s=100, c = 'yellow', label = 'Iris-virginica')\n",
        "plt.scatter(kmeans.cluster_centers_[:, 0], kmeans.cluster_centers_[:,1],\n",
        "            s = 100, c = 'black', marker = '*', label = 'Centroids')\n",
        "plt.title(\"Clustered data\")\n",
        "plt.xlabel(\"Sepal Length\")\n",
        "plt.ylabel(\"Sepal Width\")\n",
        "plt.legend()"
      ],
      "metadata": {
        "id": "ugOeNRnC4RtC"
      },
      "execution_count": null,
      "outputs": []
    },
    {
      "cell_type": "code",
      "source": [
        "df['Predicted species'] = ''\n",
        "df.loc[df['Prediction'] == 0, 'Predicted species'] = 'Iris-versicolor'\n",
        "df.loc[df['Prediction'] == 1, 'Predicted species'] = 'Iris-setosa'\n",
        "df.loc[df['Prediction'] == 2, 'Predicted species'] = 'Iris-virginica'"
      ],
      "metadata": {
        "id": "bQiSyC8U4gOz"
      },
      "execution_count": null,
      "outputs": []
    },
    {
      "cell_type": "code",
      "source": [
        "df"
      ],
      "metadata": {
        "id": "PkWRmZdm5k3f"
      },
      "execution_count": null,
      "outputs": []
    },
    {
      "cell_type": "code",
      "source": [
        "sm.accuracy_score(df['Species'], df['Predicted species'])\n"
      ],
      "metadata": {
        "id": "2DDWbhrc5o0z"
      },
      "execution_count": null,
      "outputs": []
    },
    {
      "cell_type": "code",
      "source": [
        "sm.confusion_matrix(df['Species'], df['Predicted species'])\n"
      ],
      "metadata": {
        "id": "iTWk2e3S5z9b"
      },
      "execution_count": null,
      "outputs": []
    },
    {
      "cell_type": "markdown",
      "source": [
        "Therefore our model is 89% accurate"
      ],
      "metadata": {
        "id": "uORmPQiG5437"
      }
    },
    {
      "cell_type": "markdown",
      "source": [
        "WE HAVE COMPLETED K-MEANS CLUSTERING ON IRIS DATASET"
      ],
      "metadata": {
        "id": "3otWQu3r5835"
      }
    }
  ]
}